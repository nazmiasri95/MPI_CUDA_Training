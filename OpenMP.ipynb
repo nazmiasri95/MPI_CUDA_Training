{
 "cells": [
  {
   "cell_type": "markdown",
   "metadata": {},
   "source": [
    "<img src=\"images/openmp.png\"style=\"width:300px;\">\n",
    "\n",
    "# OpenMP: a short introduction\n",
    "\n",
    "For this lab, you can watch the different videos proposed by Tim Mattson (Intel) on [YouTube](https://www.youtube.com/playlist?list=PLLX-Q6B8xqZ8n8bwjGdzBJ25X2utwnoEG)\n",
    "\n",
    "Many tutorials are available online on [openmp.org](http://www.openmp.org/resources/tutorials-articles/)\n"
   ]
  },
  {
   "cell_type": "markdown",
   "metadata": {},
   "source": [
    "## Moore's Law\n",
    "\n",
    "To help you understand the Moore's Law, take a look at this [video](https://youtu.be/cMWGeJyrc9w)."
   ]
  },
  {
   "cell_type": "markdown",
   "metadata": {},
   "source": [
    "## OpenMP API\n",
    "\n",
    "<ol>\n",
    "<li>__Directives__ to create parallel regions, synchronizations, or to define data status (private, share, ...)</li>\n",
    "<li> __Library__ for specific functionalities (dynamic informations, runtime actions...)</li>\n",
    "<li>__Environnement variables__ to refine program execution (threads numbers, schedule stratégies ...)</li>\n",
    "</ol>\n",
    "<img src=\"images/Api_OpenMP_En.png\"style=\"width:800px;\">"
   ]
  },
  {
   "cell_type": "markdown",
   "metadata": {},
   "source": [
    "\n",
    "## OpenMP execution model\n",
    "<ol>\n",
    "<li>User include __directives__ to define __parallel regions__</li>\n",
    "<li>During runtime, respect the so-called __fork-join__ model programming:</li>\n",
    "<ul>\n",
    "<li>Master thread creates a team of threads (*fork*)\n",
    "<li>At the end of the parallel region only the master of the team continues, all others terminate (*join*)</li>\n",
    "</ul></ol>\n",
    "<img src=\"images/modele_execution_En.png\" style=\"width:800px;\">"
   ]
  },
  {
   "cell_type": "markdown",
   "metadata": {},
   "source": [
    "## OpenMP Memory model\n",
    "\n",
    "- all threads access the same __shared memory__; \n",
    "- every thread has its own __private memory__;\n",
    "- __shared__ data is available to all threads;\n",
    "- __private__ data is only available to the related thread; \n",
    "- Data transfer is transparent to the developer\n",
    "\n",
    "<img src=\"images/mem_openmp_En.png\" style=\"width:500px;\">"
   ]
  },
  {
   "cell_type": "markdown",
   "metadata": {},
   "source": [
    "## Main OpenMP directives\n",
    "<ul>\n",
    "<li>Building of parallel regions</li>\n",
    "<ul>\n",
    "    <li>``` parallel``` creates a parallel region based on fork-join model.</li>\n",
    "</ul>\n",
    "<li>Work sharing</li>\n",
    "<ul>\n",
    "  <li>```for ```: share iterations of a parallel loop;</li>\n",
    "  <li>``` sections ```: define blocks that will be executed simultaneously;</li>\n",
    "  <li>``` single ```: declare a block that will be executed by one thread only.</li>\n",
    "</ul>\n",
    "<li>Synchronisation</li>\n",
    "<ul>\n",
    "  <li>``` master ```: block that must be executed by the master thread;</li>\n",
    "  <li>``` critical ``` : block that can be executed only by one thread at a time;</li>\n",
    "  <li>``` atomic ``` : atomic write memory instruction;   \n",
    "  <li>``` barrier ```: wait until all threads reach that point.</li>\n",
    "</ul><li>Tasks management</li>\n",
    "<ul>\n",
    "  <li>``` task ```: descendant task declaration;</li>\n",
    "  <li>``` taskwait ```: wait the end of the descendant task.</li>\n",
    "</ul></ul>"
   ]
  },
  {
   "cell_type": "markdown",
   "metadata": {},
   "source": [
    "# OpenMP Directives\n",
    "\n",
    "__C/C++ directives format__\n",
    "\n",
    "```C\n",
    "#pragma omp directive [clause [clause] ...]\n",
    "```\n",
    "## Comprising four parts :\n",
    "1. OpenMP tag: ```#pragma omp```\n",
    "2. Valid directive name\n",
    "3. Optional list clauses (additionals informations)\n",
    "4. A newline\n",
    "\n",
    "## General rules :\n",
    "<ul>\n",
    "<li>OpenMP C/C++ directives are case-sensitive;</li>\n",
    "<li>An OpenMP directive apply to the next code block;</li>\n",
    "<li>Long directives can be written on multi-lines by adding a backslash « \\ » at the end of the line.</li>\n",
    "</ul>"
   ]
  },
  {
   "cell_type": "markdown",
   "metadata": {},
   "source": [
    "## Parallel directive\n",
    "\n",
    "```C\n",
    "#pragma omp parallel [clause [clause] ... ]\n",
    "{\n",
    "    // Parallel region\n",
    "}\n",
    "```\n",
    "**Function :**\n",
    "- When a thread reaches the ``` parallel ``` directive, it creates a team of threads and acts as the master thread; threads of the team execute all blocks;\n",
    "- Number of threads depends in the order on, the ``` if ``` evaluation claude, the ``` num_threads ``` clause, the  ``` omp_set_num_threads()``` primitive,  the ``` OMP_NUM_THREADS``` environnement variable, the default value;\n",
    "- There is an implicit barrier at the end of the parallel region;\n",
    "- By default, variables status is __shared__ in parallel regions;\n",
    "- However, if the region contains functions calls, their locals and automatics variables are private;\n",
    "- It is not allowed to jump from or to a parallel region (goto)\n",
    "- Possibles clauses : ``` if, num_threads, private, shared, default, firstprivate, reduction, copyin ```"
   ]
  },
  {
   "cell_type": "markdown",
   "metadata": {},
   "source": [
    "### Parallel regions in detail\n",
    "\n",
    "```C\n",
    "#pragma omp parallel\n",
    "    {\n",
    "        printf (\"The parallel region is executed by the thread %d\\n\",omp_get_thread_num());\n",
    "    }  // end of parallel region\n",
    "```\n",
    "\n",
    "The structure ``` omp parallel``` supports different additional clauses:\n",
    "\n",
    "- ```if (expression) ``` : \n",
    "- ``` num_threads (integer) ```:\n",
    "- ``` private (list) ```:\n",
    "- ```firstprivate (list) ```:\n",
    "- ```lastprivate (list) ```:\n",
    "- ```shared (list) ```:\n",
    "- ```default (none | shared)```:\n",
    "- ```copyin (list) ```:\n",
    "- ```reduction (operator:list)```:"
   ]
  },
  {
   "cell_type": "markdown",
   "metadata": {},
   "source": [
    "### The if clause \n",
    "\n",
    "** if clause format in C/C++ **\n",
    "```C\n",
    "if (/* Scalar expression */)\n",
    "```\n",
    "When this clause is present, the thread team is only created if 'scalar expression' is non equal to zero, else the region is sequentialy executed by the master thread\n",
    "\n",
    "** If clause exemple **\n",
    "```C\n",
    "#include <stdio .h>\n",
    "#define PARALLEL 1 // 0 for sequential , != 0 for parallel\n",
    "\n",
    "int main() {\n",
    "    #pragma omp parallel if (PARALLEL)\n",
    "    printf(\"Hello, openMP\\n\");\n",
    "    return 0; \n",
    "}\n",
    "```"
   ]
  },
  {
   "cell_type": "markdown",
   "metadata": {},
   "source": [
    "### The num_threads clause\n",
    "\n",
    "** num_threads clause format in C/C++ **\n",
    "```C\n",
    "num_threads (/* Integer expression */)\n",
    "```\n",
    "\n",
    "- Specifies the number of threads that will execute the next parallel region;\n",
    "- Expression must be evaluated as an positive integer value.\n"
   ]
  },
  {
   "cell_type": "markdown",
   "metadata": {},
   "source": [
    "### Exercice 1:\n",
    "\n",
    "```C\n",
    "#include <stdio .h>\n",
    "\n",
    "int main() \n",
    "{\n",
    "    #pragma omp parallel\n",
    "    printf(\"Hello world\\n\" ); \n",
    "    return 0;\n",
    "}\n",
    "```\n",
    "\n",
    "- Compile this program (file hello.c in exercice1 folder) with and without ```-fopenmp ``` option\n",
    "- Run program in both two cases\n",
    "- What is the default theads number ? Is that raisonable?\n",
    "- Change the number of threads used by your program."
   ]
  },
  {
   "cell_type": "code",
   "execution_count": 1,
   "metadata": {},
   "outputs": [
    {
     "data": {
      "text/html": [
       "\n",
       "        <iframe\n",
       "            width=\"100%\"\n",
       "            height=\"500\"\n",
       "            src=\"https://romeolab.univ-reims.fr/495_VNEDroidgnXWxm5ag7B8GT7L_editor/\"\n",
       "            frameborder=\"0\"\n",
       "            allowfullscreen\n",
       "        ></iframe>\n",
       "        "
      ],
      "text/plain": [
       "<IPython.lib.display.IFrame at 0x7f635f93b710>"
      ]
     },
     "execution_count": 1,
     "metadata": {},
     "output_type": "execute_result"
    }
   ],
   "source": [
    "editor()"
   ]
  },
  {
   "cell_type": "code",
   "execution_count": 2,
   "metadata": {},
   "outputs": [
    {
     "name": "stdout",
     "output_type": "stream",
     "text": [
      "Done\n"
     ]
    }
   ],
   "source": [
    "%%bash\n",
    "cd exercice1\n",
    "gcc hello.c -o hello\n",
    "echo \"Done\""
   ]
  },
  {
   "cell_type": "code",
   "execution_count": 3,
   "metadata": {},
   "outputs": [
    {
     "name": "stdout",
     "output_type": "stream",
     "text": [
      "Submitted batch job 994151\n",
      "Waiting for resources .........o\n",
      "End batch job 994151 Status:  COMPLETED \n",
      "\n",
      "Slurm command was : sbatch -n 1 --output=/home/lab00064/UTP_2017/IntroductionOpenMP/python-execute-slurm/%J.out --error=/home/lab00064/UTP_2017/IntroductionOpenMP/python-execute-slurm/%J.err\n",
      "Hello world\n"
     ]
    }
   ],
   "source": [
    "%%execute\n",
    "cd exercice1\n",
    "export OMP_NUM_THREADS=8\n",
    "./hello"
   ]
  },
  {
   "cell_type": "markdown",
   "metadata": {},
   "source": [
    "# Work sharing\n",
    "\n",
    "- Includes in all parallel regions\n",
    "- Has to be met by all or none of the threads\n",
    "- Shares the work between the deferent threads\n",
    "- Implies a barrier at the end of the construction (except if the nowait clause is present).\n",
    "\n",
    "<img src=\"images/partage_travail_En.png\" style=\"width:1000px;\">\n",
    "\n",
    "There are three basic methods of sharing : \n",
    "\n",
    "- ```C \n",
    "#pragma omp for ```\n",
    "- ```C\n",
    "#pragma omp sections ```\n",
    "- ```C\n",
    "#pragma omp single ```\n",
    "\n",
    "Behavior of each structure can be specified by clauses that will be defined later in this course\n",
    "\n",
    "## For directive\n",
    "\n",
    "```C\n",
    "#pragma omp for [clause [clause] ... ]\n",
    "for (init; condition; increment) \n",
    "{\n",
    "    // loop code \n",
    "}\n",
    "```\n",
    "\n",
    "<ul>\n",
    "<li> Indicates that loop iterations following the directive must be executed in parallel by a team of threads; </li>\n",
    "<li> Iteration variables are private by default;</li>\n",
    "<li> Loops must have a simple iterative form:</li>\n",
    "<ul>\n",
    "<li>The condition has to be the same for all threads</li>\n",
    "<li>Unbounded loop or while loop are not allowed</li>\n",
    "</ul>\n",
    "\n",
    "<li>**Reminder** : the developer is responsible for the code semantics</li>\n",
    "<li>Clauses possibles : ``` schedule, ordered, private, firstprivate, lastprivate, reduction, collapse, nowait ```</li>\n",
    "</ul>\n",
    "\n",
    "### Exercice 2\n",
    "\n",
    "- Write a C code that sums each component of an array with a scalar value and write the result in a second array;\n",
    "- If needed, an initial sequential C program is providen in exercice2 folder;\n",
    "- Parallelize that code with **OpenMP**."
   ]
  },
  {
   "cell_type": "code",
   "execution_count": 4,
   "metadata": {},
   "outputs": [
    {
     "data": {
      "text/html": [
       "\n",
       "        <iframe\n",
       "            width=\"100%\"\n",
       "            height=\"500\"\n",
       "            src=\"https://romeolab.univ-reims.fr/495_VNEDroidgnXWxm5ag7B8GT7L_editor/\"\n",
       "            frameborder=\"0\"\n",
       "            allowfullscreen\n",
       "        ></iframe>\n",
       "        "
      ],
      "text/plain": [
       "<IPython.lib.display.IFrame at 0x7f635f93b7f0>"
      ]
     },
     "execution_count": 4,
     "metadata": {},
     "output_type": "execute_result"
    }
   ],
   "source": [
    "editor()"
   ]
  },
  {
   "cell_type": "code",
   "execution_count": 5,
   "metadata": {},
   "outputs": [
    {
     "name": "stdout",
     "output_type": "stream",
     "text": [
      "Done\n"
     ]
    }
   ],
   "source": [
    "%%bash\n",
    "cd exercice2\n",
    "gcc exercice2.c -o exercice2 -fopenmp -std=c99 \n",
    "echo \"Done\""
   ]
  },
  {
   "cell_type": "code",
   "execution_count": 6,
   "metadata": {},
   "outputs": [
    {
     "name": "stdout",
     "output_type": "stream",
     "text": [
      "Submitted batch job 994152\n",
      "Waiting for resources ........\n",
      "End batch job 994152 Status:  COMPLETED \n",
      "\n",
      "Slurm command was : sbatch -n 1 --output=/home/lab00064/UTP_2017/IntroductionOpenMP/python-execute-slurm/%J.out --error=/home/lab00064/UTP_2017/IntroductionOpenMP/python-execute-slurm/%J.err\n",
      "Sequential execution\n",
      "Initial array:\n",
      "[0 1 2 3 4 5 6 7 8 9]\n",
      "5 has been added to each element.\n",
      "Final array:\n",
      "[5 6 7 8 9 10 11 12 13 14]\n"
     ]
    }
   ],
   "source": [
    "%%execute\n",
    "cd exercice2\n",
    "./exercice2"
   ]
  },
  {
   "cell_type": "markdown",
   "metadata": {},
   "source": [
    "### Schedule clause \n",
    "\n",
    "** Schedule clause format in C/C++ **\n",
    "\n",
    "<ul>\n",
    "<li>The schedule clause is supported on the loop construct only. It is used to control the manner in which loop iterations are distributed over the threads;</li>  \n",
    "\n",
    "<ul>\n",
    "<li>** static :  ** Iterations are divided into chunks of size __chunk_size__. The chunks are assigned to the threads statically in a round-robin manner, in the order of the threads numbers. When no __chunk_size__ is specified, the iteration space is devided into chunks that are approximately equal in size. Each thread is assigned at most one chunk;</li>\n",
    "<li>** dynamic : ** The iterations are assigned to threads as the threads request them. The thread executes the chunk of iterations, then request another chunk until there are no more chunk to work on. When no chunk_size is specified, it default is to 1;</li>\n",
    "<li>** guided : ** The difference with dynamic is that with guided schedule, the size of the chunk of iteration decrease over time;</li>\n",
    "\n",
    "<li>** runtime : **If this schedule is selected, the decision regarding scheduling kind is made at runtime. The schedule and (optional) chunk size are set through the OMP_SCHEDULE environnement variable;</li>\n",
    "\n",
    "</ul>"
   ]
  },
  {
   "cell_type": "markdown",
   "metadata": {},
   "source": [
    "### Exercice 3\n",
    "```C\n",
    "#include <stdio.h> \n",
    "#include <omp.h> \n",
    "\n",
    "#define SIZE 100 \n",
    "#define CHUNK 10\n",
    "\n",
    "int main() { \n",
    "    int tid;\n",
    "    double a[SIZE],b[SIZE], c[SIZE];\n",
    "    \n",
    "    for (size_t i =0; i < SIZE; i++)\n",
    "        a[i] = b[i] = i;\n",
    "        \n",
    "    #pragma omp parallel private(tid) \n",
    "    {\n",
    "        tid = omp_get_thread_num () ; \n",
    "        if (tid == 0)\n",
    "            printf(\"Nb threads = %d\\n\", omp_get_num_threads());\n",
    "        printf(\"Thread %d: starting...\\n\", tid);\n",
    "    #pragma omp barrier\n",
    "\n",
    "    #pragma omp for schedule(dynamic, CHUNK) \n",
    "        for (size_t i = 0; i < SIZE; i++) {\n",
    "            c[i] = a[i] + b[i];\n",
    "            printf(\"Thread %d: c[%2zu] = %g\\n\", tid, i, c[i]); \n",
    "        }\n",
    "    }\n",
    "    return 0;\n",
    "}\n",
    "```\n",
    "\n",
    "- Examine the program : which instructions are executed by all threads? By only one thread ?\n",
    "- Run the program several times. What do you think about the instructions execution order ?\n",
    "- Redirect the output into the __sort__ utility. Run the code and observe the iterations repartition.\n",
    "- Repeat several times. Is the work repartition stable?\n",
    "- Change the schedule policy and use static. Run the code several times. Is the work repartition stable ? \n",
    "- Comment the impact of the schedule policy on excution performances."
   ]
  },
  {
   "cell_type": "code",
   "execution_count": 7,
   "metadata": {},
   "outputs": [
    {
     "data": {
      "text/html": [
       "\n",
       "        <iframe\n",
       "            width=\"100%\"\n",
       "            height=\"500\"\n",
       "            src=\"https://romeolab.univ-reims.fr/495_VNEDroidgnXWxm5ag7B8GT7L_editor/\"\n",
       "            frameborder=\"0\"\n",
       "            allowfullscreen\n",
       "        ></iframe>\n",
       "        "
      ],
      "text/plain": [
       "<IPython.lib.display.IFrame at 0x7f635f93bd68>"
      ]
     },
     "execution_count": 7,
     "metadata": {},
     "output_type": "execute_result"
    }
   ],
   "source": [
    "editor()"
   ]
  },
  {
   "cell_type": "code",
   "execution_count": 8,
   "metadata": {},
   "outputs": [
    {
     "name": "stdout",
     "output_type": "stream",
     "text": [
      "Done\n"
     ]
    }
   ],
   "source": [
    "%%bash\n",
    "cd solutions\n",
    "gcc exercice3Omp.c -o exercice3Omp -fopenmp -std=c99 \n",
    "echo \"Done\""
   ]
  },
  {
   "cell_type": "code",
   "execution_count": 9,
   "metadata": {
    "collapsed": true
   },
   "outputs": [
    {
     "name": "stdout",
     "output_type": "stream",
     "text": [
      "Submitted batch job 994153\n",
      "Waiting for resources .........o\n",
      "End batch job 994153 Status:  COMPLETED \n",
      "\n",
      "Slurm command was : sbatch -n 1 --output=/home/lab00064/UTP_2017/IntroductionOpenMP/python-execute-slurm/%J.out --error=/home/lab00064/UTP_2017/IntroductionOpenMP/python-execute-slurm/%J.err\n",
      "Nb threads = 8\n",
      "Thread 0: starting...\n",
      "Thread 4: starting...\n",
      "Thread 5: starting...\n",
      "Thread 6: starting...\n",
      "Thread 7: starting...\n",
      "Thread 3: starting...\n",
      "Thread 2: starting...\n",
      "Thread 1: starting...\n",
      "Thread 0: c[ 0] = 0\n",
      "Thread 0: c[ 1] = 2\n",
      "Thread 0: c[ 2] = 4\n",
      "Thread 0: c[ 3] = 6\n",
      "Thread 0: c[ 4] = 8\n",
      "Thread 0: c[ 5] = 10\n",
      "Thread 0: c[ 6] = 12\n",
      "Thread 0: c[ 7] = 14\n",
      "Thread 0: c[ 8] = 16\n",
      "Thread 0: c[ 9] = 18\n",
      "Thread 0: c[10] = 20\n",
      "Thread 0: c[11] = 22\n",
      "Thread 0: c[12] = 24\n",
      "Thread 0: c[13] = 26\n",
      "Thread 0: c[14] = 28\n",
      "Thread 0: c[15] = 30\n",
      "Thread 0: c[16] = 32\n",
      "Thread 0: c[17] = 34\n",
      "Thread 0: c[18] = 36\n",
      "Thread 0: c[19] = 38\n",
      "Thread 0: c[20] = 40\n",
      "Thread 0: c[21] = 42\n",
      "Thread 0: c[22] = 44\n",
      "Thread 0: c[23] = 46\n",
      "Thread 0: c[24] = 48\n",
      "Thread 0: c[25] = 50\n",
      "Thread 0: c[26] = 52\n",
      "Thread 0: c[27] = 54\n",
      "Thread 0: c[28] = 56\n",
      "Thread 0: c[29] = 58\n",
      "Thread 0: c[30] = 60\n",
      "Thread 0: c[31] = 62\n",
      "Thread 0: c[32] = 64\n",
      "Thread 0: c[33] = 66\n",
      "Thread 0: c[34] = 68\n",
      "Thread 0: c[35] = 70\n",
      "Thread 0: c[36] = 72\n",
      "Thread 0: c[37] = 74\n",
      "Thread 0: c[38] = 76\n",
      "Thread 0: c[39] = 78\n",
      "Thread 0: c[40] = 80\n",
      "Thread 0: c[41] = 82\n",
      "Thread 0: c[42] = 84\n",
      "Thread 0: c[43] = 86\n",
      "Thread 0: c[44] = 88\n",
      "Thread 0: c[45] = 90\n",
      "Thread 0: c[46] = 92\n",
      "Thread 0: c[47] = 94\n",
      "Thread 0: c[48] = 96\n",
      "Thread 0: c[49] = 98\n",
      "Thread 0: c[50] = 100\n",
      "Thread 0: c[51] = 102\n",
      "Thread 0: c[52] = 104\n",
      "Thread 0: c[53] = 106\n",
      "Thread 0: c[54] = 108\n",
      "Thread 0: c[55] = 110\n",
      "Thread 0: c[56] = 112\n",
      "Thread 0: c[57] = 114\n",
      "Thread 0: c[58] = 116\n",
      "Thread 0: c[59] = 118\n",
      "Thread 0: c[60] = 120\n",
      "Thread 0: c[61] = 122\n",
      "Thread 0: c[62] = 124\n",
      "Thread 0: c[63] = 126\n",
      "Thread 0: c[64] = 128\n",
      "Thread 0: c[65] = 130\n",
      "Thread 0: c[66] = 132\n",
      "Thread 0: c[67] = 134\n",
      "Thread 0: c[68] = 136\n",
      "Thread 0: c[69] = 138\n",
      "Thread 0: c[70] = 140\n",
      "Thread 0: c[71] = 142\n",
      "Thread 0: c[72] = 144\n",
      "Thread 0: c[73] = 146\n",
      "Thread 0: c[74] = 148\n",
      "Thread 0: c[75] = 150\n",
      "Thread 0: c[76] = 152\n",
      "Thread 0: c[77] = 154\n",
      "Thread 0: c[78] = 156\n",
      "Thread 0: c[79] = 158\n",
      "Thread 0: c[80] = 160\n",
      "Thread 0: c[81] = 162\n",
      "Thread 0: c[82] = 164\n",
      "Thread 0: c[83] = 166\n",
      "Thread 0: c[84] = 168\n",
      "Thread 0: c[85] = 170\n",
      "Thread 0: c[86] = 172\n",
      "Thread 0: c[87] = 174\n",
      "Thread 0: c[88] = 176\n",
      "Thread 0: c[89] = 178\n",
      "Thread 0: c[90] = 180\n",
      "Thread 0: c[91] = 182\n",
      "Thread 0: c[92] = 184\n",
      "Thread 0: c[93] = 186\n",
      "Thread 0: c[94] = 188\n",
      "Thread 0: c[95] = 190\n",
      "Thread 0: c[96] = 192\n",
      "Thread 0: c[97] = 194\n",
      "Thread 0: c[98] = 196\n",
      "Thread 0: c[99] = 198\n",
      "Execution time : 0.000254\n"
     ]
    }
   ],
   "source": [
    "%%execute\n",
    "cd solutions\n",
    "./exercice3Omp 8 "
   ]
  },
  {
   "cell_type": "markdown",
   "metadata": {},
   "source": [
    "### Collapse clause\n",
    "\n",
    "** Collapse clause format in C/C++ **\n",
    "```C\n",
    "collapse(/∗ Integer expression strictly positive ∗/)\n",
    "```\n",
    "Collapse clause might be added to a loop nest to enable parallelization of multiple loop levels.\n",
    "- Specify the number of ```for ```  loop levels to be collapsed (default is 1);\n",
    "- If the integer expression is 1, all loops are collapsed in order to create a single iterations space that will be distributed between all threads;\n",
    "- The iteration order in the collapsed loops is the same as in the originals loops.\n",
    "\n",
    "\n",
    "### Exercice 4:\n",
    "- Write a sequential program that will compute the product of two matrices A and B. Put the code in the directory exercice4;\n",
    "- Parallelize the previous code without using the ```collapse clause ``` directive;\n",
    "- Parallelize the code using ```collapse clause ``` this time and with and without the ```collapse ``` clause ;\n",
    "- Compare in each cases the execution time. How does treatement time change according to the number of threads used?"
   ]
  },
  {
   "cell_type": "code",
   "execution_count": 10,
   "metadata": {},
   "outputs": [
    {
     "data": {
      "text/html": [
       "\n",
       "        <iframe\n",
       "            width=\"100%\"\n",
       "            height=\"500\"\n",
       "            src=\"https://romeolab.univ-reims.fr/495_VNEDroidgnXWxm5ag7B8GT7L_editor/\"\n",
       "            frameborder=\"0\"\n",
       "            allowfullscreen\n",
       "        ></iframe>\n",
       "        "
      ],
      "text/plain": [
       "<IPython.lib.display.IFrame at 0x7f635f93b668>"
      ]
     },
     "execution_count": 10,
     "metadata": {},
     "output_type": "execute_result"
    }
   ],
   "source": [
    "editor()"
   ]
  },
  {
   "cell_type": "code",
   "execution_count": 11,
   "metadata": {},
   "outputs": [
    {
     "name": "stderr",
     "output_type": "stream",
     "text": [
      "bash: line 2: cd: exercice4: No such file or directory\n",
      "gcc: exercice4.c: No such file or directory\n",
      "gcc: no input files\n",
      "bash: line 4: ./exercice4: No such file or directory\n"
     ]
    }
   ],
   "source": [
    "%%bash\n",
    "cd exercice4\n",
    "gcc -fopenmp exercice4.c -o exercice4\n",
    "./exercice4"
   ]
  },
  {
   "cell_type": "markdown",
   "metadata": {},
   "source": [
    "### Nowait clause\n",
    "\n",
    "- Suppress the barrier at the end of the work-sharing construct;\n",
    "- When threads reach the end of the construct, they immediately proceed to perform other work;\n",
    "\n",
    "For example,  when a thread is finished with the work associated with a parallelized ```for``` loop, it continues and no longer waits for other threads to finish as well.\n",
    "```C\n",
    "#include <stdio.h> \n",
    "#include <stdlib.h>\n",
    "#include <omp.h>\n",
    "\n",
    "#define SIZE 100\n",
    "\n",
    "int main() {\n",
    "    double a[SIZE], b[SIZE], c[SIZE], d[SIZE];\n",
    "    for (size_t i = 0; i < SIZE; i++) a[i] = b[i] = i;\n",
    "    #pragma omp parallel\n",
    "    {\n",
    "        #pragma omp for schedule(static) nowait \n",
    "            for (size_t i = 0; i < SIZE; i++)\n",
    "                c[i] = a[i] + b[i];\n",
    "        #pragma omp for schedule(static) \n",
    "            for (size_t i = 0; i < SIZE; i++)\n",
    "                d[i] = a[i] + c[i]; \n",
    "     }\n",
    "     for (size_t i = 0; i < SIZE; i++) \n",
    "         printf(\"%g \", d[i]);\n",
    "     printf(\"\\n\");\n",
    "   \n",
    "     return EXIT_SUCCESS; \n",
    "}\n",
    "```\n",
    "\n",
    "### Exercice 5:\n",
    "- Execute the program several times. Is the result coherent ?\n",
    "- Examine the program : which iterations will be executed by which threads ?\n",
    "- Is the use of the nowaite clause a good strategy ?\n",
    "- Change the schedule policy in __guided__ for the second loop.\n",
    "- Execute the program several times. Is the result correct? If you cannot find a problem, look better ;-) !"
   ]
  },
  {
   "cell_type": "code",
   "execution_count": 12,
   "metadata": {},
   "outputs": [
    {
     "data": {
      "text/html": [
       "\n",
       "        <iframe\n",
       "            width=\"100%\"\n",
       "            height=\"500\"\n",
       "            src=\"https://romeolab.univ-reims.fr/495_VNEDroidgnXWxm5ag7B8GT7L_editor/\"\n",
       "            frameborder=\"0\"\n",
       "            allowfullscreen\n",
       "        ></iframe>\n",
       "        "
      ],
      "text/plain": [
       "<IPython.lib.display.IFrame at 0x7f637aaf1710>"
      ]
     },
     "execution_count": 12,
     "metadata": {},
     "output_type": "execute_result"
    }
   ],
   "source": [
    "editor()"
   ]
  },
  {
   "cell_type": "code",
   "execution_count": 13,
   "metadata": {},
   "outputs": [
    {
     "name": "stdout",
     "output_type": "stream",
     "text": [
      "Done\n"
     ]
    }
   ],
   "source": [
    "%%bash\n",
    "cd solutions\n",
    "gcc exercice5.c -o exercice5 -fopenmp -std=c99 \n",
    "echo \"Done\""
   ]
  },
  {
   "cell_type": "code",
   "execution_count": 14,
   "metadata": {},
   "outputs": [
    {
     "name": "stdout",
     "output_type": "stream",
     "text": [
      "Submitted batch job 994154\n",
      "Waiting for resources .........oo\n",
      "End batch job 994154 Status:  COMPLETED \n",
      "\n",
      "Slurm command was : sbatch -n 1 --output=/home/lab00064/UTP_2017/IntroductionOpenMP/python-execute-slurm/%J.out --error=/home/lab00064/UTP_2017/IntroductionOpenMP/python-execute-slurm/%J.err\n",
      "0 3 6 9 12 15 18 21 24 27 30 33 36 39 42 45 48 51 54 57 60 63 66 69 72 75 78 81 84 87 90 93 96 99 102 105 108 111 114 117 120 123 126 129 132 135 138 141 144 147 150 153 156 159 162 165 168 171 174 177 180 183 186 189 192 195 198 201 204 207 210 213 216 219 222 225 228 231 234 237 240 243 246 249 252 255 258 261 264 267 270 273 276 279 282 285 288 291 294 297 \n"
     ]
    }
   ],
   "source": [
    "%%execute\n",
    "cd solutions\n",
    "./exercice5"
   ]
  },
  {
   "cell_type": "markdown",
   "metadata": {},
   "source": [
    "## Section directive\n",
    "** Section directive format in C/C++ **\n",
    "```C\n",
    "#pragma omp sections [ clause [ clause ] . . . ] \n",
    "{\n",
    "    #pragma omp section\n",
    "        // Bloc 1\n",
    "        ...\n",
    "    #pragma omp section\n",
    "        // Bloc N\n",
    "}\n",
    "```\n",
    "- Specifies different code regions, each of which will be executed by one of the threads;\n",
    "- Each section is executed one time\n",
    "- Possible clauses : private, firstprivate, lastprivate, reduction, nowait.\n",
    "\n",
    "**Exemple :**\n",
    "```C\n",
    "#pragma omp parallel\n",
    "{\n",
    "    #pragma omp sections\n",
    "    {\n",
    "        #pragma omp section\n",
    "            (void) functionA();\n",
    "            \n",
    "        #pragma omp section \n",
    "            (void) functionB();\n",
    "     }  /* end of section */\n",
    "} /* end of parallel region */\n",
    "```"
   ]
  },
  {
   "cell_type": "markdown",
   "metadata": {},
   "source": [
    "## Single directive\n",
    "** Single directive format in C/C++ **\n",
    "```C\n",
    "    #pragma omp single [ clause [ clause ] . . . ] {\n",
    "        // Bloc\n",
    "}\n",
    "```\n",
    "- Specifies that this block should be executed by one thread only;\n",
    "- It does not state which thread should executes the code block;\n",
    "- Usefull for non thread-safe parts of code (input/output for exemple)\n",
    "- Possible clauses : private, firstprivate, copyprivate, nowait.\n",
    "\n",
    "**Exemple :**\n",
    "```C\n",
    "#pragma omp parallel shared (a,b) private (i)\n",
    "\n",
    "    pragma omp single \n",
    "    {\n",
    "        a = 10;\n",
    "        printf (\"Bloc single is executed by the thread %d\\n\",\n",
    "                omp_get_thread_num());\n",
    "    }\n",
    "    \n",
    "    /* barrier */\n",
    "    #pragma omp for\n",
    "    {\n",
    "        for (i=0;i<n;i++) \n",
    "            b[i]=a;\n",
    "    }\n",
    "    \n",
    "}\n",
    "```\n",
    "\n",
    "### Exercice 6:\n",
    "- with the next editor, create an empty folder exercice6 and add anempty file exercice6.c;\n",
    "- copy/paste the example;\n",
    "- compile and test it.\n"
   ]
  },
  {
   "cell_type": "code",
   "execution_count": 15,
   "metadata": {},
   "outputs": [
    {
     "data": {
      "text/html": [
       "\n",
       "        <iframe\n",
       "            width=\"100%\"\n",
       "            height=\"500\"\n",
       "            src=\"https://romeolab.univ-reims.fr/495_VNEDroidgnXWxm5ag7B8GT7L_editor/\"\n",
       "            frameborder=\"0\"\n",
       "            allowfullscreen\n",
       "        ></iframe>\n",
       "        "
      ],
      "text/plain": [
       "<IPython.lib.display.IFrame at 0x7f635f47b400>"
      ]
     },
     "execution_count": 15,
     "metadata": {},
     "output_type": "execute_result"
    }
   ],
   "source": [
    "editor()"
   ]
  },
  {
   "cell_type": "code",
   "execution_count": 16,
   "metadata": {},
   "outputs": [
    {
     "name": "stderr",
     "output_type": "stream",
     "text": [
      "bash: line 2: cd: exercice6: No such file or directory\n",
      "gcc: no input files\n"
     ]
    }
   ],
   "source": [
    "%%bash\n",
    "cd exercice6\n",
    "gcc"
   ]
  },
  {
   "cell_type": "markdown",
   "metadata": {},
   "source": [
    "# Shortcurt for parallel for/sections\n",
    "** Parallel for directive format**\n",
    "```C\n",
    "    #pragma omp parallel for [clause [clause] ...] \n",
    "    ...\n",
    "```\n",
    "\n",
    "** Parallel section directive format**\n",
    "```C\n",
    "    #pragma omp parallel sections [ clause [ clause ] \n",
    "    {\n",
    "        #pragma omp section\n",
    "            // Bloc 1\n",
    "            ...\n",
    "        #pragma omp section\n",
    "            // Bloc N\n",
    "    }\n",
    "```\n",
    "\n",
    "- Creates a parallel region with only one directive;\n",
    "- Possible clauses : all combination of clauses except nowait.\n",
    "\n",
    "# Approximation of Pi using the Monte Carlo method\n",
    "\n",
    "- in the folder solutions, you can edit the pi_mc.c file;\n",
    "- this program will estimate the value of Pi thanks to the Monte Carlo method;\n",
    "- if you're not familiar with this method, you can go [there](https://curiosity-driven.org/pi-approximation) for example;\n",
    "- One can decide to write is own code without editing to providen one..."
   ]
  },
  {
   "cell_type": "code",
   "execution_count": 17,
   "metadata": {
    "scrolled": false
   },
   "outputs": [
    {
     "data": {
      "text/html": [
       "\n",
       "        <iframe\n",
       "            width=\"100%\"\n",
       "            height=\"500\"\n",
       "            src=\"https://romeolab.univ-reims.fr/495_VNEDroidgnXWxm5ag7B8GT7L_editor/\"\n",
       "            frameborder=\"0\"\n",
       "            allowfullscreen\n",
       "        ></iframe>\n",
       "        "
      ],
      "text/plain": [
       "<IPython.lib.display.IFrame at 0x7f635f47b2b0>"
      ]
     },
     "execution_count": 17,
     "metadata": {},
     "output_type": "execute_result"
    }
   ],
   "source": [
    "editor()"
   ]
  },
  {
   "cell_type": "code",
   "execution_count": 18,
   "metadata": {},
   "outputs": [
    {
     "name": "stdout",
     "output_type": "stream",
     "text": [
      "Done\n"
     ]
    }
   ],
   "source": [
    "%%bash\n",
    "cd solutions\n",
    "gcc pi_mc.c -o pi_mc -fopenmp -std=c99 \n",
    "echo \"Done\""
   ]
  },
  {
   "cell_type": "code",
   "execution_count": 19,
   "metadata": {},
   "outputs": [
    {
     "name": "stdout",
     "output_type": "stream",
     "text": [
      "Submitted batch job 994156\n",
      "Waiting for resources ........\n",
      "Running .........ooo\n",
      "End batch job 994156 Status:  COMPLETED \n",
      "\n",
      "Slurm command was : sbatch -n 1 --output=/home/lab00064/UTP_2017/IntroductionOpenMP/python-execute-slurm/%J.out --error=/home/lab00064/UTP_2017/IntroductionOpenMP/python-execute-slurm/%J.err\n",
      "#threads = 8\n",
      "Estimated value for Pi: 3.142335, average execution time: 3.124511\n"
     ]
    }
   ],
   "source": [
    "%%execute\n",
    "cd solutions\n",
    "./pi_mc 100000000 8"
   ]
  }
 ],
 "metadata": {
  "kernelspec": {
   "display_name": "Python 3",
   "language": "python",
   "name": "python3"
  },
  "language_info": {
   "codemirror_mode": {
    "name": "ipython",
    "version": 3
   },
   "file_extension": ".py",
   "mimetype": "text/x-python",
   "name": "python",
   "nbconvert_exporter": "python",
   "pygments_lexer": "ipython3",
   "version": "3.5.3"
  },
  "toc": {
   "colors": {
    "hover_highlight": "#DAA520",
    "running_highlight": "#FF0000",
    "selected_highlight": "#FFD700"
   },
   "moveMenuLeft": true,
   "nav_menu": {
    "height": "495px",
    "width": "252px"
   },
   "navigate_menu": true,
   "number_sections": true,
   "sideBar": true,
   "threshold": 4,
   "toc_cell": false,
   "toc_section_display": "block",
   "toc_window_display": false
  }
 },
 "nbformat": 4,
 "nbformat_minor": 1
}
